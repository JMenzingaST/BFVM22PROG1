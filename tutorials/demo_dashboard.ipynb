{
 "cells": [
  {
   "cell_type": "code",
   "execution_count": 38,
   "metadata": {},
   "outputs": [],
   "source": [
    "import numpy as np\n",
    "import pandas as pd"
   ]
  },
  {
   "cell_type": "code",
   "execution_count": 39,
   "metadata": {},
   "outputs": [
    {
     "name": "stdout",
     "output_type": "stream",
     "text": [
      "(11500, 178)\n",
      "(500, 4094)\n"
     ]
    }
   ],
   "source": [
    "x = np.random.rand(23*500,178)\n",
    "print(x.shape)\n",
    "x = x.reshape(500, 178*23)\n",
    "print(x.shape)\n",
    "\n"
   ]
  },
  {
   "cell_type": "code",
   "execution_count": 40,
   "metadata": {},
   "outputs": [
    {
     "data": {
      "text/html": [
       "<div>\n",
       "<style scoped>\n",
       "    .dataframe tbody tr th:only-of-type {\n",
       "        vertical-align: middle;\n",
       "    }\n",
       "\n",
       "    .dataframe tbody tr th {\n",
       "        vertical-align: top;\n",
       "    }\n",
       "\n",
       "    .dataframe thead th {\n",
       "        text-align: right;\n",
       "    }\n",
       "</style>\n",
       "<table border=\"1\" class=\"dataframe\">\n",
       "  <thead>\n",
       "    <tr style=\"text-align: right;\">\n",
       "      <th></th>\n",
       "      <th>0</th>\n",
       "      <th>1</th>\n",
       "      <th>2</th>\n",
       "      <th>3</th>\n",
       "      <th>4</th>\n",
       "      <th>5</th>\n",
       "      <th>6</th>\n",
       "      <th>7</th>\n",
       "      <th>8</th>\n",
       "      <th>9</th>\n",
       "      <th>...</th>\n",
       "      <th>169</th>\n",
       "      <th>170</th>\n",
       "      <th>171</th>\n",
       "      <th>172</th>\n",
       "      <th>173</th>\n",
       "      <th>174</th>\n",
       "      <th>175</th>\n",
       "      <th>176</th>\n",
       "      <th>177</th>\n",
       "      <th>y</th>\n",
       "    </tr>\n",
       "  </thead>\n",
       "  <tbody>\n",
       "    <tr>\n",
       "      <th>0</th>\n",
       "      <td>0.068416</td>\n",
       "      <td>0.365622</td>\n",
       "      <td>0.673538</td>\n",
       "      <td>0.030998</td>\n",
       "      <td>0.495884</td>\n",
       "      <td>0.545641</td>\n",
       "      <td>0.226375</td>\n",
       "      <td>0.943521</td>\n",
       "      <td>0.134422</td>\n",
       "      <td>0.334103</td>\n",
       "      <td>...</td>\n",
       "      <td>0.691286</td>\n",
       "      <td>0.210212</td>\n",
       "      <td>0.904201</td>\n",
       "      <td>0.123089</td>\n",
       "      <td>0.661473</td>\n",
       "      <td>0.173782</td>\n",
       "      <td>0.939385</td>\n",
       "      <td>0.024906</td>\n",
       "      <td>0.339649</td>\n",
       "      <td></td>\n",
       "    </tr>\n",
       "    <tr>\n",
       "      <th>1</th>\n",
       "      <td>0.584004</td>\n",
       "      <td>0.929924</td>\n",
       "      <td>0.697473</td>\n",
       "      <td>0.329024</td>\n",
       "      <td>0.249071</td>\n",
       "      <td>0.850792</td>\n",
       "      <td>0.539391</td>\n",
       "      <td>0.356462</td>\n",
       "      <td>0.823598</td>\n",
       "      <td>0.249579</td>\n",
       "      <td>...</td>\n",
       "      <td>0.061198</td>\n",
       "      <td>0.495970</td>\n",
       "      <td>0.586769</td>\n",
       "      <td>0.627717</td>\n",
       "      <td>0.551782</td>\n",
       "      <td>0.670428</td>\n",
       "      <td>0.184810</td>\n",
       "      <td>0.275906</td>\n",
       "      <td>0.449154</td>\n",
       "      <td></td>\n",
       "    </tr>\n",
       "  </tbody>\n",
       "</table>\n",
       "<p>2 rows × 179 columns</p>\n",
       "</div>"
      ],
      "text/plain": [
       "          0         1         2         3         4         5         6  \\\n",
       "0  0.068416  0.365622  0.673538  0.030998  0.495884  0.545641  0.226375   \n",
       "1  0.584004  0.929924  0.697473  0.329024  0.249071  0.850792  0.539391   \n",
       "\n",
       "          7         8         9  ...       169       170       171       172  \\\n",
       "0  0.943521  0.134422  0.334103  ...  0.691286  0.210212  0.904201  0.123089   \n",
       "1  0.356462  0.823598  0.249579  ...  0.061198  0.495970  0.586769  0.627717   \n",
       "\n",
       "        173       174       175       176       177  y  \n",
       "0  0.661473  0.173782  0.939385  0.024906  0.339649     \n",
       "1  0.551782  0.670428  0.184810  0.275906  0.449154     \n",
       "\n",
       "[2 rows x 179 columns]"
      ]
     },
     "execution_count": 40,
     "metadata": {},
     "output_type": "execute_result"
    }
   ],
   "source": [
    "df = pd.DataFrame(np.random.rand(23*500,178))\n",
    "df['y'] = ''\n",
    "df.head(2)"
   ]
  },
  {
   "cell_type": "code",
   "execution_count": 42,
   "metadata": {},
   "outputs": [
    {
     "data": {
      "text/html": [
       "<div>\n",
       "<style scoped>\n",
       "    .dataframe tbody tr th:only-of-type {\n",
       "        vertical-align: middle;\n",
       "    }\n",
       "\n",
       "    .dataframe tbody tr th {\n",
       "        vertical-align: top;\n",
       "    }\n",
       "\n",
       "    .dataframe thead th {\n",
       "        text-align: right;\n",
       "    }\n",
       "</style>\n",
       "<table border=\"1\" class=\"dataframe\">\n",
       "  <thead>\n",
       "    <tr style=\"text-align: right;\">\n",
       "      <th></th>\n",
       "      <th>0</th>\n",
       "      <th>1</th>\n",
       "      <th>2</th>\n",
       "      <th>3</th>\n",
       "      <th>4</th>\n",
       "      <th>5</th>\n",
       "      <th>6</th>\n",
       "      <th>7</th>\n",
       "      <th>8</th>\n",
       "      <th>9</th>\n",
       "      <th>...</th>\n",
       "      <th>168</th>\n",
       "      <th>169</th>\n",
       "      <th>170</th>\n",
       "      <th>171</th>\n",
       "      <th>172</th>\n",
       "      <th>173</th>\n",
       "      <th>174</th>\n",
       "      <th>175</th>\n",
       "      <th>176</th>\n",
       "      <th>177</th>\n",
       "    </tr>\n",
       "  </thead>\n",
       "  <tbody>\n",
       "    <tr>\n",
       "      <th>0</th>\n",
       "      <td>0.068416</td>\n",
       "      <td>0.365622</td>\n",
       "      <td>0.673538</td>\n",
       "      <td>0.030998</td>\n",
       "      <td>0.495884</td>\n",
       "      <td>0.545641</td>\n",
       "      <td>0.226375</td>\n",
       "      <td>0.943521</td>\n",
       "      <td>0.134422</td>\n",
       "      <td>0.334103</td>\n",
       "      <td>...</td>\n",
       "      <td>0.596668</td>\n",
       "      <td>0.691286</td>\n",
       "      <td>0.210212</td>\n",
       "      <td>0.904201</td>\n",
       "      <td>0.123089</td>\n",
       "      <td>0.661473</td>\n",
       "      <td>0.173782</td>\n",
       "      <td>0.939385</td>\n",
       "      <td>0.024906</td>\n",
       "      <td>0.339649</td>\n",
       "    </tr>\n",
       "    <tr>\n",
       "      <th>1</th>\n",
       "      <td>0.584004</td>\n",
       "      <td>0.929924</td>\n",
       "      <td>0.697473</td>\n",
       "      <td>0.329024</td>\n",
       "      <td>0.249071</td>\n",
       "      <td>0.850792</td>\n",
       "      <td>0.539391</td>\n",
       "      <td>0.356462</td>\n",
       "      <td>0.823598</td>\n",
       "      <td>0.249579</td>\n",
       "      <td>...</td>\n",
       "      <td>0.911159</td>\n",
       "      <td>0.061198</td>\n",
       "      <td>0.495970</td>\n",
       "      <td>0.586769</td>\n",
       "      <td>0.627717</td>\n",
       "      <td>0.551782</td>\n",
       "      <td>0.670428</td>\n",
       "      <td>0.184810</td>\n",
       "      <td>0.275906</td>\n",
       "      <td>0.449154</td>\n",
       "    </tr>\n",
       "    <tr>\n",
       "      <th>2</th>\n",
       "      <td>0.798527</td>\n",
       "      <td>0.684831</td>\n",
       "      <td>0.249367</td>\n",
       "      <td>0.016197</td>\n",
       "      <td>0.421683</td>\n",
       "      <td>0.739676</td>\n",
       "      <td>0.558209</td>\n",
       "      <td>0.233743</td>\n",
       "      <td>0.866047</td>\n",
       "      <td>0.333368</td>\n",
       "      <td>...</td>\n",
       "      <td>0.195859</td>\n",
       "      <td>0.739127</td>\n",
       "      <td>0.086498</td>\n",
       "      <td>0.979750</td>\n",
       "      <td>0.522312</td>\n",
       "      <td>0.924660</td>\n",
       "      <td>0.656104</td>\n",
       "      <td>0.604266</td>\n",
       "      <td>0.971534</td>\n",
       "      <td>0.459001</td>\n",
       "    </tr>\n",
       "    <tr>\n",
       "      <th>3</th>\n",
       "      <td>0.415515</td>\n",
       "      <td>0.716587</td>\n",
       "      <td>0.714840</td>\n",
       "      <td>0.905843</td>\n",
       "      <td>0.470655</td>\n",
       "      <td>0.744568</td>\n",
       "      <td>0.545034</td>\n",
       "      <td>0.775587</td>\n",
       "      <td>0.540247</td>\n",
       "      <td>0.444983</td>\n",
       "      <td>...</td>\n",
       "      <td>0.680583</td>\n",
       "      <td>0.176876</td>\n",
       "      <td>0.704854</td>\n",
       "      <td>0.405208</td>\n",
       "      <td>0.276625</td>\n",
       "      <td>0.633055</td>\n",
       "      <td>0.509104</td>\n",
       "      <td>0.248769</td>\n",
       "      <td>0.543187</td>\n",
       "      <td>0.523137</td>\n",
       "    </tr>\n",
       "    <tr>\n",
       "      <th>4</th>\n",
       "      <td>0.921498</td>\n",
       "      <td>0.475670</td>\n",
       "      <td>0.744111</td>\n",
       "      <td>0.034980</td>\n",
       "      <td>0.398577</td>\n",
       "      <td>0.181444</td>\n",
       "      <td>0.930692</td>\n",
       "      <td>0.987807</td>\n",
       "      <td>0.205991</td>\n",
       "      <td>0.768669</td>\n",
       "      <td>...</td>\n",
       "      <td>0.028218</td>\n",
       "      <td>0.190166</td>\n",
       "      <td>0.180710</td>\n",
       "      <td>0.241068</td>\n",
       "      <td>0.801253</td>\n",
       "      <td>0.999885</td>\n",
       "      <td>0.867521</td>\n",
       "      <td>0.048773</td>\n",
       "      <td>0.354872</td>\n",
       "      <td>0.718021</td>\n",
       "    </tr>\n",
       "  </tbody>\n",
       "</table>\n",
       "<p>5 rows × 178 columns</p>\n",
       "</div>"
      ],
      "text/plain": [
       "        0         1         2         3         4         5         6    \\\n",
       "0  0.068416  0.365622  0.673538  0.030998  0.495884  0.545641  0.226375   \n",
       "1  0.584004  0.929924  0.697473  0.329024  0.249071  0.850792  0.539391   \n",
       "2  0.798527  0.684831  0.249367  0.016197  0.421683  0.739676  0.558209   \n",
       "3  0.415515  0.716587  0.714840  0.905843  0.470655  0.744568  0.545034   \n",
       "4  0.921498  0.475670  0.744111  0.034980  0.398577  0.181444  0.930692   \n",
       "\n",
       "        7         8         9    ...       168       169       170       171  \\\n",
       "0  0.943521  0.134422  0.334103  ...  0.596668  0.691286  0.210212  0.904201   \n",
       "1  0.356462  0.823598  0.249579  ...  0.911159  0.061198  0.495970  0.586769   \n",
       "2  0.233743  0.866047  0.333368  ...  0.195859  0.739127  0.086498  0.979750   \n",
       "3  0.775587  0.540247  0.444983  ...  0.680583  0.176876  0.704854  0.405208   \n",
       "4  0.987807  0.205991  0.768669  ...  0.028218  0.190166  0.180710  0.241068   \n",
       "\n",
       "        172       173       174       175       176       177  \n",
       "0  0.123089  0.661473  0.173782  0.939385  0.024906  0.339649  \n",
       "1  0.627717  0.551782  0.670428  0.184810  0.275906  0.449154  \n",
       "2  0.522312  0.924660  0.656104  0.604266  0.971534  0.459001  \n",
       "3  0.276625  0.633055  0.509104  0.248769  0.543187  0.523137  \n",
       "4  0.801253  0.999885  0.867521  0.048773  0.354872  0.718021  \n",
       "\n",
       "[5 rows x 178 columns]"
      ]
     },
     "execution_count": 42,
     "metadata": {},
     "output_type": "execute_result"
    }
   ],
   "source": [
    "df = df.iloc[:, :178]\n",
    "df.head()"
   ]
  },
  {
   "cell_type": "code",
   "execution_count": 36,
   "metadata": {},
   "outputs": [
    {
     "data": {
      "text/plain": [
       "(11500, 178)"
      ]
     },
     "execution_count": 36,
     "metadata": {},
     "output_type": "execute_result"
    }
   ],
   "source": [
    "\n",
    "df.shape"
   ]
  },
  {
   "cell_type": "code",
   "execution_count": 46,
   "metadata": {},
   "outputs": [
    {
     "data": {
      "text/plain": [
       "(500, 4094)"
      ]
     },
     "execution_count": 46,
     "metadata": {},
     "output_type": "execute_result"
    }
   ],
   "source": [
    "X = np.array(df)\n",
    "X = X.reshape(500, 178*23)\n",
    "X.shape"
   ]
  },
  {
   "cell_type": "code",
   "execution_count": 51,
   "metadata": {},
   "outputs": [
    {
     "data": {
      "text/plain": [
       "array([[0.18862792, 0.02216596, 0.19664086, 0.48198077],\n",
       "       [0.79571835, 0.47325292, 0.39409837, 0.15051995],\n",
       "       [0.94617674, 0.67707526, 0.47702369, 0.21653691]])"
      ]
     },
     "execution_count": 51,
     "metadata": {},
     "output_type": "execute_result"
    }
   ],
   "source": [
    "x = np.random.rand(3,4)\n",
    "x"
   ]
  },
  {
   "cell_type": "code",
   "execution_count": 52,
   "metadata": {},
   "outputs": [
    {
     "data": {
      "text/plain": [
       "array([[0.18862792, 0.02216596],\n",
       "       [0.19664086, 0.48198077],\n",
       "       [0.79571835, 0.47325292],\n",
       "       [0.39409837, 0.15051995],\n",
       "       [0.94617674, 0.67707526],\n",
       "       [0.47702369, 0.21653691]])"
      ]
     },
     "execution_count": 52,
     "metadata": {},
     "output_type": "execute_result"
    }
   ],
   "source": [
    "x = x.reshape(6,2)\n",
    "x"
   ]
  }
 ],
 "metadata": {
  "kernelspec": {
   "display_name": "Python 3.10.4",
   "language": "python",
   "name": "python3"
  },
  "language_info": {
   "codemirror_mode": {
    "name": "ipython",
    "version": 3
   },
   "file_extension": ".py",
   "mimetype": "text/x-python",
   "name": "python",
   "nbconvert_exporter": "python",
   "pygments_lexer": "ipython3",
   "version": "3.10.4"
  },
  "orig_nbformat": 4,
  "vscode": {
   "interpreter": {
    "hash": "6b91fa5cffef32cb10787a50fea9666676a7951181e01280b4644cd70c964bf4"
   }
  }
 },
 "nbformat": 4,
 "nbformat_minor": 2
}
