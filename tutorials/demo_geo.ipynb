{
  "cells": [
    {
      "cell_type": "code",
      "execution_count": null,
      "metadata": {
        "id": "2XYScmnH4V5r"
      },
      "outputs": [],
      "source": [
        "import pandas as pd\n",
        "import io\n",
        "df = pd.read_csv('patients.csv')"
      ]
    },
    {
      "cell_type": "code",
      "execution_count": null,
      "metadata": {
        "id": "edldQVec5Bzy"
      },
      "outputs": [],
      "source": [
        "#library for interactive geographical maps\n",
        "import folium"
      ]
    },
    {
      "cell_type": "code",
      "execution_count": null,
      "metadata": {
        "id": "pBRLEZVc4jjn"
      },
      "outputs": [],
      "source": [
        "#jsonfile containing border coordinates\n",
        "url = \"https://raw.githubusercontent.com/glynnbird/usstatesgeojson/master/massachusetts.geojson\""
      ]
    },
    {
      "cell_type": "code",
      "execution_count": null,
      "metadata": {
        "colab": {
          "base_uri": "https://localhost:8080/",
          "height": 240
        },
        "id": "lf8mzYRx8xfU",
        "outputId": "2db6223b-e662-4c58-e007-66d6fd90e58c"
      },
      "outputs": [],
      "source": [
        "# draw a simple map with folium\n",
        "# center the map at location of interest\n",
        "# (use inspect window to use getCenter and getZoom for mapobject)\n",
        "# draw borders using geojson coordinates\n",
        "# add datapoints using df patients\n",
        "# add popup with fstring\n",
        "\n",
        "\n",
        "# initialize\n",
        "# lat 41.14970617453726\n",
        "# lon -70.26306152343751\n",
        "# zoom = 7\n",
        "mapobj = folium.Map(location = [41.14970617453726, -70.26306152343751], zoom_start = 8)\n",
        "\n",
        "# add border with coordinates from json\n",
        "borderstyle = {\n",
        "    \"color\" : \"blue\",\n",
        "    \"fill\" : False,\n",
        "    \"weight\" : 3\n",
        "}\n",
        "folium.GeoJson(data=url, name=\"borders\", style_function=lambda x: borderstyle).add_to(mapobj)\n",
        "\n",
        "# add the bubbles to the mapobj\n",
        "health_cost = folium.FeatureGroup(\"healthcost\").add_to(mapobj)\n",
        "for i in range(0, len(df)):\n",
        "  # get values\n",
        "  lat = df.iloc[i]['LAT']\n",
        "  lon = df.iloc[i]['LON']\n",
        "  costs = df.iloc[i]['HEALTHCARE_EXPENSES']\n",
        "  radius = costs/2000\n",
        "  died = df.iloc[i]['DEATHDATE']\n",
        "  color = \"green\" if pd.isna(died) else \"red\"\n",
        "  # create circles\n",
        "  folium.Circle(\n",
        "      popup = f'costs: {costs}, deathdate: {died} ',\n",
        "      location = [lat, lon],\n",
        "      radius = radius,\n",
        "      fill = True, \n",
        "      color = color, \n",
        "      fill_opacity = 0.1\n",
        "  ).add_to(health_cost)\n",
        "\n",
        "folium.LayerControl().add_to(mapobj)\n",
        "\n",
        "# show the map \n",
        "mapobj"
      ]
    },
    {
      "cell_type": "code",
      "execution_count": null,
      "metadata": {
        "colab": {
          "base_uri": "https://localhost:8080/",
          "height": 142
        },
        "id": "HSlCm6eXFcon",
        "outputId": "0faef6ef-e019-4558-88f3-9d7838df9597"
      },
      "outputs": [],
      "source": [
        "#geopandas is a geographical library with geometry column containing location point(s)\n",
        "import geopandas\n",
        "gdp = geopandas.read_file(url)\n",
        "gdp"
      ]
    },
    {
      "cell_type": "code",
      "execution_count": null,
      "metadata": {
        "colab": {
          "base_uri": "https://localhost:8080/",
          "height": 534
        },
        "id": "wexODHOdOVud",
        "outputId": "bc4c8432-c30c-4547-c557-891d6a24ef04"
      },
      "outputs": [],
      "source": [
        "#Create geometry data \n",
        "from shapely.geometry import Point,Polygon\n",
        "import geopandas as gpd\n",
        "import matplotlib.pyplot as plt\n",
        "\n",
        "crs = {'init': 'epsg:4326'} # initiating my coordinate system\n",
        "geometry = [Point(x,y) \n",
        "           for x,y in zip(df.LON,df.LAT)]\n",
        "\n",
        "geo_df = gpd.GeoDataFrame(df, # the dataframe\n",
        "                          crs = crs, # coordinate system\n",
        "                          geometry = geometry) # geometric points\n",
        "geo_df.head()"
      ]
    },
    {
      "cell_type": "code",
      "execution_count": null,
      "metadata": {
        "id": "_VYbJ6IOOwl_"
      },
      "outputs": [],
      "source": [
        "#plot the data from the geodataframe\n",
        "fig, ax = plt.subplots(figsize = (15,16))\n",
        "geo_df.plot(ax = ax , markersize = 2, color = 'red', alpha = 0.2, marker =\n",
        "            'o',label = 'HEALTHCARE_EXPENSES', aspect=1)\n",
        "plt.legend()\n",
        "ax.set_ylabel('Latitude',fontdict = {'fontsize': 20})\n",
        "ax.set_xlabel('Longitude',fontdict = {'fontsize': 20})\n",
        "plt.show"
      ]
    }
  ],
  "metadata": {
    "colab": {
      "provenance": []
    },
    "kernelspec": {
      "display_name": "Python 3",
      "name": "python3"
    }
  },
  "nbformat": 4,
  "nbformat_minor": 0
}
