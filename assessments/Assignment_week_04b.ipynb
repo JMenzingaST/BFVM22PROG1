{
 "cells": [
  {
   "cell_type": "markdown",
   "metadata": {},
   "source": [
    "## Assignment 04b: Sleeping habits\n",
    "\n",
    "As a data scientist you will work with ordinal or categorical data as well. What are good methods to visualize such data? What are proper statistics to use? What needs to be done in the data preparation steps to conduct certain analysis. During this week we will work with data from a sleeping study. This dataset is not mandatory. You are encouraged to use data from your project when possible. \n",
    "\n",
    "Keywords: statistics, categorical data, ordinal data, survey-based study of the sleeping, exploratory data analysis, normalization, hypothesis testing, p-value\n",
    "\n",
    "\n",
    "More to read:\n",
    "- https://fennaf.gitbook.io/bfvm22prog1/\n",
    "\n",
    "https://machinelearningmastery.com/statistical-hypothesis-tests-in-python-cheat-sheet/\n",
    "There are a number of cheatsheets and tutorials on the internet. The next overview is a compact overview of tutorials\n",
    "- https://www.kaggle.com/hamelg/python-for-data-21-descriptive-statistics\n",
    "- https://www.kaggle.com/hamelg/python-for-data-22-probability-distributions\n",
    "- https://www.kaggle.com/hamelg/python-for-data-23-confidence-intervals\n",
    "- https://www.kaggle.com/hamelg/python-for-data-24-hypothesis-testing\n",
    "- https://www.kaggle.com/hamelg/python-for-data-25-chi-squared-tests\n",
    "- https://www.kaggle.com/hamelg/python-for-data-26-anova/notebook\n",
    "- https://www.kaggle.com/hamelg/python-for-data-27-linear-regression\n",
    "\n",
    "\n",
    "You will learn about analysing data with pandas and numpy and you will learn to visualize with bokeh. Concretely, you will preprocess the Sleep Study data in an appropiate format in order to conduct statistical and visual analysis. \n",
    "\n",
    "Learning objectives\n",
    "- Conduct exploratory data analysis for categarical data\n",
    "- Provide statistical evidence of factor effect\n",
    "- Maintain development environment \n",
    "- Apply coding standards and FAIR principles\n",
    "\n",
    "Please add topics you want to learn here: https://padlet.com/ffeenstra1/z9duo25d39dcgezz\n",
    "\n",
    "\n",
    "## About the data\n",
    "\n",
    "The data is collected from a survey-based study of the sleeping habits of individuals within the US. \n",
    "\n",
    "Below is a description of each of the variables contained within the dataset.\n",
    "\n",
    "- Enough = Do you think that you get enough sleep?\n",
    "- Hours = On average, how many hours of sleep do you get on a weeknight?\n",
    "- PhoneReach = Do you sleep with your phone within arms reach?\n",
    "- PhoneTime = Do you use your phone within 30 minutes of falling asleep?\n",
    "- Tired = On a scale from 1 to 5, how tired are you throughout the day? (1 being not tired, 5 being very tired)\n",
    "- Breakfast = Do you typically eat breakfast?\n",
    "\n",
    "The two research questions you should answer in this assignment are:\n",
    "1. Is there a differences in Hours sleep caused by having breakfast (yes, no)?\n",
    "2. Is there a differences in Hours sleep caused by having breakfast and the tireness (score)\n",
    "\n",
    "\n",
    "The assignment consists of 6 parts:\n",
    "\n",
    "- [part 1: load the data](#0)\n",
    "- [part 2: data inspection](#1)\n",
    "- [part 3: check assumptions](#2)\n",
    "   - [check normality 3.1](#ex-31)\n",
    "   - [check equal variance 3.2](#ex-32)\n",
    "- [part 4: prepare the data](#3)\n",
    "- [part 5: answer the research question](#4)\n",
    "- [part 6: enhanced plotting](#5)\n",
    "\n",
    "Part 1 till 5 are mandatory, part 6 is optional (bonus)\n",
    "Mind you that you cannot copy code without referencing the code. If you copy code you need to be able to explain your code verbally and you will not get the full score. \n",
    "\n",
    "\n",
    "**NOTE If your project data is suitable you can use that data instead of the given data**"
   ]
  },
  {
   "cell_type": "markdown",
   "metadata": {},
   "source": [
    "## ANOVA\n",
    "\n",
    "Analysis of variance (ANOVA) compares the variances between groups versus within groups. It basically determines whether the differences between groups is larger than the differences within a group (the noise). \n",
    "A graph picturing this is as follow: https://link.springer.com/article/10.1007/s00424-019-02300-4/figures/2\n",
    "\n",
    "\n",
    "In ANOVA, the dependent variable must be a continuous (interval or ratio) level of measurement. For instance Glucose level. The independent variables in ANOVA must be categorical (nominal or ordinal) variables. For instance trial category, time of day (AM versus PM) or time of trial (different categories). Like the t-test, ANOVA is also a parametric test and has some assumptions. ANOVA assumes that the data is normally distributed.  The ANOVA also assumes homogeneity of variance, which means that the variance among the groups should be approximately equal. ANOVA also assumes that the observations are independent of each other. \n",
    "\n",
    "A one-way ANOVA has just one independent variable. A two-way ANOVA (are also called factorial ANOVA) refers to an ANOVA using two independent variables. For research question 1 we can use the one-way ANOVA, for research question two we can use two-way ANOVA. But first we need to check the assumptions. \n",
    "\n",
    "If your data is not normally distributed you might want to look for an alternative. See also https://www.statisticshowto.com/probability-and-statistics/statistics-definitions/parametric-and-non-parametric-data/\n"
   ]
  },
  {
   "cell_type": "markdown",
   "metadata": {},
   "source": [
    "---"
   ]
  },
  {
   "cell_type": "markdown",
   "metadata": {},
   "source": [
    "<a name='0'></a>\n",
    "## Part 1: Load the data (10 pt)\n",
    "\n",
    "load the `sleep.csv` data. \n",
    "Preferably we read the data not with a hard coded data path but using a config file. See https://fennaf.gitbook.io/bfvm22prog1/data-processing/configuration-files/yaml. Get yourself familiar with the data. Answer the following questions.\n",
    "\n",
    "1. What is the percentage missing data?\n",
    "2. Considering the research question, what is the dependent variable and what are the indepent variables? Are they of the correct datatype? "
   ]
  },
  {
   "cell_type": "code",
   "execution_count": 116,
   "metadata": {},
   "outputs": [],
   "source": [
    "import yaml\n",
    "import numpy as np\n",
    "import pandas as pd"
   ]
  },
  {
   "cell_type": "code",
   "execution_count": 117,
   "metadata": {},
   "outputs": [
    {
     "data": {
      "text/html": [
       "<div>\n",
       "<style scoped>\n",
       "    .dataframe tbody tr th:only-of-type {\n",
       "        vertical-align: middle;\n",
       "    }\n",
       "\n",
       "    .dataframe tbody tr th {\n",
       "        vertical-align: top;\n",
       "    }\n",
       "\n",
       "    .dataframe thead th {\n",
       "        text-align: right;\n",
       "    }\n",
       "</style>\n",
       "<table border=\"1\" class=\"dataframe\">\n",
       "  <thead>\n",
       "    <tr style=\"text-align: right;\">\n",
       "      <th></th>\n",
       "      <th>Enough</th>\n",
       "      <th>Hours</th>\n",
       "      <th>PhoneReach</th>\n",
       "      <th>PhoneTime</th>\n",
       "      <th>Tired</th>\n",
       "      <th>Breakfast</th>\n",
       "    </tr>\n",
       "  </thead>\n",
       "  <tbody>\n",
       "    <tr>\n",
       "      <th>0</th>\n",
       "      <td>Yes</td>\n",
       "      <td>8.0</td>\n",
       "      <td>Yes</td>\n",
       "      <td>Yes</td>\n",
       "      <td>3</td>\n",
       "      <td>Yes</td>\n",
       "    </tr>\n",
       "    <tr>\n",
       "      <th>1</th>\n",
       "      <td>No</td>\n",
       "      <td>6.0</td>\n",
       "      <td>Yes</td>\n",
       "      <td>Yes</td>\n",
       "      <td>3</td>\n",
       "      <td>No</td>\n",
       "    </tr>\n",
       "    <tr>\n",
       "      <th>2</th>\n",
       "      <td>Yes</td>\n",
       "      <td>6.0</td>\n",
       "      <td>Yes</td>\n",
       "      <td>Yes</td>\n",
       "      <td>2</td>\n",
       "      <td>Yes</td>\n",
       "    </tr>\n",
       "    <tr>\n",
       "      <th>3</th>\n",
       "      <td>No</td>\n",
       "      <td>7.0</td>\n",
       "      <td>Yes</td>\n",
       "      <td>Yes</td>\n",
       "      <td>4</td>\n",
       "      <td>No</td>\n",
       "    </tr>\n",
       "    <tr>\n",
       "      <th>4</th>\n",
       "      <td>No</td>\n",
       "      <td>7.0</td>\n",
       "      <td>Yes</td>\n",
       "      <td>Yes</td>\n",
       "      <td>2</td>\n",
       "      <td>Yes</td>\n",
       "    </tr>\n",
       "  </tbody>\n",
       "</table>\n",
       "</div>"
      ],
      "text/plain": [
       "  Enough  Hours PhoneReach PhoneTime  Tired Breakfast\n",
       "0    Yes    8.0        Yes       Yes      3       Yes\n",
       "1     No    6.0        Yes       Yes      3        No\n",
       "2    Yes    6.0        Yes       Yes      2       Yes\n",
       "3     No    7.0        Yes       Yes      4        No\n",
       "4     No    7.0        Yes       Yes      2       Yes"
      ]
     },
     "execution_count": 117,
     "metadata": {},
     "output_type": "execute_result"
    }
   ],
   "source": [
    "with open('config.yaml') as stream:\n",
    "    config = yaml.safe_load(stream)\n",
    "    \n",
    "df = pd.read_csv(config['file_assignment_4b'])\n",
    "df.head()"
   ]
  },
  {
   "cell_type": "code",
   "execution_count": 118,
   "metadata": {},
   "outputs": [
    {
     "name": "stdout",
     "output_type": "stream",
     "text": [
      "Column \"Enough\" has 0 missing datapoints\n",
      "Column \"Hours\" has 2 missing datapoints\n",
      "Column \"PhoneReach\" has 0 missing datapoints\n",
      "Column \"PhoneTime\" has 0 missing datapoints\n",
      "Column \"Tired\" has 0 missing datapoints\n",
      "Column \"Breakfast\" has 0 missing datapoints\n",
      "\n",
      "Missing datapoints below:\n",
      "   Enough  Hours PhoneReach PhoneTime  Tired Breakfast\n",
      "65     No    NaN        Yes        No      3       Yes\n",
      "91    Yes    NaN         No       Yes      2       Yes\n",
      "The percentage of missing data is: 1.92%\n"
     ]
    }
   ],
   "source": [
    "# code printing percentage missing data\n",
    "\n",
    "for column in df.columns:\n",
    "    print(f'Column \"{column}\" has {sum(df[column].isna())} missing datapoints')\n",
    "    \n",
    "print('\\nMissing datapoints below:')\n",
    "print(df[df['Hours'].isna()])\n",
    "\n",
    "print(f'The percentage of missing data is: {(2/len(df))*100:.2f}%')"
   ]
  },
  {
   "cell_type": "code",
   "execution_count": 153,
   "metadata": {},
   "outputs": [
    {
     "data": {
      "text/html": [
       "<div>\n",
       "<style scoped>\n",
       "    .dataframe tbody tr th:only-of-type {\n",
       "        vertical-align: middle;\n",
       "    }\n",
       "\n",
       "    .dataframe tbody tr th {\n",
       "        vertical-align: top;\n",
       "    }\n",
       "\n",
       "    .dataframe thead tr th {\n",
       "        text-align: left;\n",
       "    }\n",
       "\n",
       "    .dataframe thead tr:last-of-type th {\n",
       "        text-align: right;\n",
       "    }\n",
       "</style>\n",
       "<table border=\"1\" class=\"dataframe\">\n",
       "  <thead>\n",
       "    <tr>\n",
       "      <th></th>\n",
       "      <th colspan=\"8\" halign=\"left\">Hours</th>\n",
       "    </tr>\n",
       "    <tr>\n",
       "      <th></th>\n",
       "      <th>count</th>\n",
       "      <th>mean</th>\n",
       "      <th>std</th>\n",
       "      <th>min</th>\n",
       "      <th>25%</th>\n",
       "      <th>50%</th>\n",
       "      <th>75%</th>\n",
       "      <th>max</th>\n",
       "    </tr>\n",
       "    <tr>\n",
       "      <th>Tired</th>\n",
       "      <th></th>\n",
       "      <th></th>\n",
       "      <th></th>\n",
       "      <th></th>\n",
       "      <th></th>\n",
       "      <th></th>\n",
       "      <th></th>\n",
       "      <th></th>\n",
       "    </tr>\n",
       "  </thead>\n",
       "  <tbody>\n",
       "    <tr>\n",
       "      <th>1</th>\n",
       "      <td>4.0</td>\n",
       "      <td>8.000000</td>\n",
       "      <td>0.816497</td>\n",
       "      <td>7.0</td>\n",
       "      <td>7.75</td>\n",
       "      <td>8.0</td>\n",
       "      <td>8.25</td>\n",
       "      <td>9.0</td>\n",
       "    </tr>\n",
       "    <tr>\n",
       "      <th>2</th>\n",
       "      <td>26.0</td>\n",
       "      <td>6.653846</td>\n",
       "      <td>1.468123</td>\n",
       "      <td>4.0</td>\n",
       "      <td>6.00</td>\n",
       "      <td>7.0</td>\n",
       "      <td>7.00</td>\n",
       "      <td>9.0</td>\n",
       "    </tr>\n",
       "    <tr>\n",
       "      <th>3</th>\n",
       "      <td>39.0</td>\n",
       "      <td>6.717949</td>\n",
       "      <td>0.971941</td>\n",
       "      <td>5.0</td>\n",
       "      <td>6.00</td>\n",
       "      <td>7.0</td>\n",
       "      <td>7.00</td>\n",
       "      <td>9.0</td>\n",
       "    </tr>\n",
       "    <tr>\n",
       "      <th>4</th>\n",
       "      <td>23.0</td>\n",
       "      <td>6.739130</td>\n",
       "      <td>1.251086</td>\n",
       "      <td>5.0</td>\n",
       "      <td>6.00</td>\n",
       "      <td>7.0</td>\n",
       "      <td>7.00</td>\n",
       "      <td>10.0</td>\n",
       "    </tr>\n",
       "    <tr>\n",
       "      <th>5</th>\n",
       "      <td>10.0</td>\n",
       "      <td>5.700000</td>\n",
       "      <td>2.584140</td>\n",
       "      <td>2.0</td>\n",
       "      <td>4.25</td>\n",
       "      <td>5.5</td>\n",
       "      <td>7.75</td>\n",
       "      <td>9.0</td>\n",
       "    </tr>\n",
       "  </tbody>\n",
       "</table>\n",
       "</div>"
      ],
      "text/plain": [
       "      Hours                                                \n",
       "      count      mean       std  min   25%  50%   75%   max\n",
       "Tired                                                      \n",
       "1       4.0  8.000000  0.816497  7.0  7.75  8.0  8.25   9.0\n",
       "2      26.0  6.653846  1.468123  4.0  6.00  7.0  7.00   9.0\n",
       "3      39.0  6.717949  0.971941  5.0  6.00  7.0  7.00   9.0\n",
       "4      23.0  6.739130  1.251086  5.0  6.00  7.0  7.00  10.0\n",
       "5      10.0  5.700000  2.584140  2.0  4.25  5.5  7.75   9.0"
      ]
     },
     "execution_count": 153,
     "metadata": {},
     "output_type": "execute_result"
    }
   ],
   "source": [
    "df.groupby('Tired').describe()"
   ]
  },
  {
   "cell_type": "code",
   "execution_count": 120,
   "metadata": {},
   "outputs": [
    {
     "data": {
      "text/plain": [
       "'The independent variables are: Breakfast and Tiredness\\n    The dependent variable is Hours (of sleep).'"
      ]
     },
     "execution_count": 120,
     "metadata": {},
     "output_type": "execute_result"
    }
   ],
   "source": [
    "#code printing answer dependent and independent variables\n",
    "\"\"\"The independent variables are: Breakfast and Tiredness\n",
    "    The dependent variable is Hours (of sleep).\"\"\""
   ]
  },
  {
   "cell_type": "code",
   "execution_count": 121,
   "metadata": {},
   "outputs": [
    {
     "name": "stdout",
     "output_type": "stream",
     "text": [
      "<class 'pandas.core.frame.DataFrame'>\n",
      "RangeIndex: 104 entries, 0 to 103\n",
      "Data columns (total 6 columns):\n",
      " #   Column      Non-Null Count  Dtype  \n",
      "---  ------      --------------  -----  \n",
      " 0   Enough      104 non-null    object \n",
      " 1   Hours       102 non-null    float64\n",
      " 2   PhoneReach  104 non-null    object \n",
      " 3   PhoneTime   104 non-null    object \n",
      " 4   Tired       104 non-null    int64  \n",
      " 5   Breakfast   104 non-null    object \n",
      "dtypes: float64(1), int64(1), object(4)\n",
      "memory usage: 5.0+ KB\n",
      "None\n",
      "\n",
      "In my opinion the datatypes of the columns make sense.\n"
     ]
    }
   ],
   "source": [
    "#code printing answer about datatypes\n",
    "print(df.info())\n",
    "\n",
    "print('\\nIn my opinion the datatypes of the columns make sense.')"
   ]
  },
  {
   "cell_type": "markdown",
   "metadata": {},
   "source": [
    "---"
   ]
  },
  {
   "cell_type": "markdown",
   "metadata": {},
   "source": [
    "<a name='1'></a>\n",
    "## Part 2: Inspect the data (30 pt)\n",
    "\n",
    "Inspect the data practically. Get an idea about how well the variable categories are ballanced. Are the values of a variable equally divided? What is the mean value of the dependent variable? Are there correlations amongs the variables?\n"
   ]
  },
  {
   "cell_type": "markdown",
   "metadata": {},
   "source": [
    "<ul>\n",
    "<li>Create some meaninful overviews such as variable value counts</li>\n",
    "<li>Create a scatter plot ploting the relation between being tired and hours of sleep with different colors for Breakfast</li>\n",
    "    <li>Print some basic statistics about the target (mean, standard deviation)</li>\n",
    "    <li>Create a heatmap to check for correlations among variables. </li>\n",
    "\n",
    "<details>    \n",
    "<summary>\n",
    "    <font size=\"3\" color=\"darkgreen\"><b>Hints</b></font>\n",
    "</summary>\n",
    "    <ul><li>the gitbook has a bokeh heatmap example</li></ul>\n",
    "</details>\n",
    "</ul>"
   ]
  },
  {
   "cell_type": "code",
   "execution_count": 179,
   "metadata": {},
   "outputs": [
    {
     "data": {
      "text/html": [
       "<div class=\"bk-root\">\n",
       "        <a href=\"https://bokeh.org\" target=\"_blank\" class=\"bk-logo bk-logo-small bk-logo-notebook\"></a>\n",
       "        <span id=\"7881\">Loading BokehJS ...</span>\n",
       "    </div>\n"
      ]
     },
     "metadata": {},
     "output_type": "display_data"
    },
    {
     "data": {
      "application/javascript": "(function(root) {\n  function now() {\n    return new Date();\n  }\n\n  const force = true;\n\n  if (typeof root._bokeh_onload_callbacks === \"undefined\" || force === true) {\n    root._bokeh_onload_callbacks = [];\n    root._bokeh_is_loading = undefined;\n  }\n\nconst JS_MIME_TYPE = 'application/javascript';\n  const HTML_MIME_TYPE = 'text/html';\n  const EXEC_MIME_TYPE = 'application/vnd.bokehjs_exec.v0+json';\n  const CLASS_NAME = 'output_bokeh rendered_html';\n\n  /**\n   * Render data to the DOM node\n   */\n  function render(props, node) {\n    const script = document.createElement(\"script\");\n    node.appendChild(script);\n  }\n\n  /**\n   * Handle when an output is cleared or removed\n   */\n  function handleClearOutput(event, handle) {\n    const cell = handle.cell;\n\n    const id = cell.output_area._bokeh_element_id;\n    const server_id = cell.output_area._bokeh_server_id;\n    // Clean up Bokeh references\n    if (id != null && id in Bokeh.index) {\n      Bokeh.index[id].model.document.clear();\n      delete Bokeh.index[id];\n    }\n\n    if (server_id !== undefined) {\n      // Clean up Bokeh references\n      const cmd_clean = \"from bokeh.io.state import curstate; print(curstate().uuid_to_server['\" + server_id + \"'].get_sessions()[0].document.roots[0]._id)\";\n      cell.notebook.kernel.execute(cmd_clean, {\n        iopub: {\n          output: function(msg) {\n            const id = msg.content.text.trim();\n            if (id in Bokeh.index) {\n              Bokeh.index[id].model.document.clear();\n              delete Bokeh.index[id];\n            }\n          }\n        }\n      });\n      // Destroy server and session\n      const cmd_destroy = \"import bokeh.io.notebook as ion; ion.destroy_server('\" + server_id + \"')\";\n      cell.notebook.kernel.execute(cmd_destroy);\n    }\n  }\n\n  /**\n   * Handle when a new output is added\n   */\n  function handleAddOutput(event, handle) {\n    const output_area = handle.output_area;\n    const output = handle.output;\n\n    // limit handleAddOutput to display_data with EXEC_MIME_TYPE content only\n    if ((output.output_type != \"display_data\") || (!Object.prototype.hasOwnProperty.call(output.data, EXEC_MIME_TYPE))) {\n      return\n    }\n\n    const toinsert = output_area.element.find(\".\" + CLASS_NAME.split(' ')[0]);\n\n    if (output.metadata[EXEC_MIME_TYPE][\"id\"] !== undefined) {\n      toinsert[toinsert.length - 1].firstChild.textContent = output.data[JS_MIME_TYPE];\n      // store reference to embed id on output_area\n      output_area._bokeh_element_id = output.metadata[EXEC_MIME_TYPE][\"id\"];\n    }\n    if (output.metadata[EXEC_MIME_TYPE][\"server_id\"] !== undefined) {\n      const bk_div = document.createElement(\"div\");\n      bk_div.innerHTML = output.data[HTML_MIME_TYPE];\n      const script_attrs = bk_div.children[0].attributes;\n      for (let i = 0; i < script_attrs.length; i++) {\n        toinsert[toinsert.length - 1].firstChild.setAttribute(script_attrs[i].name, script_attrs[i].value);\n        toinsert[toinsert.length - 1].firstChild.textContent = bk_div.children[0].textContent\n      }\n      // store reference to server id on output_area\n      output_area._bokeh_server_id = output.metadata[EXEC_MIME_TYPE][\"server_id\"];\n    }\n  }\n\n  function register_renderer(events, OutputArea) {\n\n    function append_mime(data, metadata, element) {\n      // create a DOM node to render to\n      const toinsert = this.create_output_subarea(\n        metadata,\n        CLASS_NAME,\n        EXEC_MIME_TYPE\n      );\n      this.keyboard_manager.register_events(toinsert);\n      // Render to node\n      const props = {data: data, metadata: metadata[EXEC_MIME_TYPE]};\n      render(props, toinsert[toinsert.length - 1]);\n      element.append(toinsert);\n      return toinsert\n    }\n\n    /* Handle when an output is cleared or removed */\n    events.on('clear_output.CodeCell', handleClearOutput);\n    events.on('delete.Cell', handleClearOutput);\n\n    /* Handle when a new output is added */\n    events.on('output_added.OutputArea', handleAddOutput);\n\n    /**\n     * Register the mime type and append_mime function with output_area\n     */\n    OutputArea.prototype.register_mime_type(EXEC_MIME_TYPE, append_mime, {\n      /* Is output safe? */\n      safe: true,\n      /* Index of renderer in `output_area.display_order` */\n      index: 0\n    });\n  }\n\n  // register the mime type if in Jupyter Notebook environment and previously unregistered\n  if (root.Jupyter !== undefined) {\n    const events = require('base/js/events');\n    const OutputArea = require('notebook/js/outputarea').OutputArea;\n\n    if (OutputArea.prototype.mime_types().indexOf(EXEC_MIME_TYPE) == -1) {\n      register_renderer(events, OutputArea);\n    }\n  }\n  if (typeof (root._bokeh_timeout) === \"undefined\" || force === true) {\n    root._bokeh_timeout = Date.now() + 5000;\n    root._bokeh_failed_load = false;\n  }\n\n  const NB_LOAD_WARNING = {'data': {'text/html':\n     \"<div style='background-color: #fdd'>\\n\"+\n     \"<p>\\n\"+\n     \"BokehJS does not appear to have successfully loaded. If loading BokehJS from CDN, this \\n\"+\n     \"may be due to a slow or bad network connection. Possible fixes:\\n\"+\n     \"</p>\\n\"+\n     \"<ul>\\n\"+\n     \"<li>re-rerun `output_notebook()` to attempt to load from CDN again, or</li>\\n\"+\n     \"<li>use INLINE resources instead, as so:</li>\\n\"+\n     \"</ul>\\n\"+\n     \"<code>\\n\"+\n     \"from bokeh.resources import INLINE\\n\"+\n     \"output_notebook(resources=INLINE)\\n\"+\n     \"</code>\\n\"+\n     \"</div>\"}};\n\n  function display_loaded() {\n    const el = document.getElementById(\"7881\");\n    if (el != null) {\n      el.textContent = \"BokehJS is loading...\";\n    }\n    if (root.Bokeh !== undefined) {\n      if (el != null) {\n        el.textContent = \"BokehJS \" + root.Bokeh.version + \" successfully loaded.\";\n      }\n    } else if (Date.now() < root._bokeh_timeout) {\n      setTimeout(display_loaded, 100)\n    }\n  }\n\n  function run_callbacks() {\n    try {\n      root._bokeh_onload_callbacks.forEach(function(callback) {\n        if (callback != null)\n          callback();\n      });\n    } finally {\n      delete root._bokeh_onload_callbacks\n    }\n    console.debug(\"Bokeh: all callbacks have finished\");\n  }\n\n  function load_libs(css_urls, js_urls, callback) {\n    if (css_urls == null) css_urls = [];\n    if (js_urls == null) js_urls = [];\n\n    root._bokeh_onload_callbacks.push(callback);\n    if (root._bokeh_is_loading > 0) {\n      console.debug(\"Bokeh: BokehJS is being loaded, scheduling callback at\", now());\n      return null;\n    }\n    if (js_urls == null || js_urls.length === 0) {\n      run_callbacks();\n      return null;\n    }\n    console.debug(\"Bokeh: BokehJS not loaded, scheduling load and callback at\", now());\n    root._bokeh_is_loading = css_urls.length + js_urls.length;\n\n    function on_load() {\n      root._bokeh_is_loading--;\n      if (root._bokeh_is_loading === 0) {\n        console.debug(\"Bokeh: all BokehJS libraries/stylesheets loaded\");\n        run_callbacks()\n      }\n    }\n\n    function on_error(url) {\n      console.error(\"failed to load \" + url);\n    }\n\n    for (let i = 0; i < css_urls.length; i++) {\n      const url = css_urls[i];\n      const element = document.createElement(\"link\");\n      element.onload = on_load;\n      element.onerror = on_error.bind(null, url);\n      element.rel = \"stylesheet\";\n      element.type = \"text/css\";\n      element.href = url;\n      console.debug(\"Bokeh: injecting link tag for BokehJS stylesheet: \", url);\n      document.body.appendChild(element);\n    }\n\n    for (let i = 0; i < js_urls.length; i++) {\n      const url = js_urls[i];\n      const element = document.createElement('script');\n      element.onload = on_load;\n      element.onerror = on_error.bind(null, url);\n      element.async = false;\n      element.src = url;\n      console.debug(\"Bokeh: injecting script tag for BokehJS library: \", url);\n      document.head.appendChild(element);\n    }\n  };\n\n  function inject_raw_css(css) {\n    const element = document.createElement(\"style\");\n    element.appendChild(document.createTextNode(css));\n    document.body.appendChild(element);\n  }\n\n  const js_urls = [\"https://cdn.bokeh.org/bokeh/release/bokeh-2.4.3.min.js\", \"https://cdn.bokeh.org/bokeh/release/bokeh-gl-2.4.3.min.js\", \"https://cdn.bokeh.org/bokeh/release/bokeh-widgets-2.4.3.min.js\", \"https://cdn.bokeh.org/bokeh/release/bokeh-tables-2.4.3.min.js\", \"https://cdn.bokeh.org/bokeh/release/bokeh-mathjax-2.4.3.min.js\"];\n  const css_urls = [];\n\n  const inline_js = [    function(Bokeh) {\n      Bokeh.set_log_level(\"info\");\n    },\nfunction(Bokeh) {\n    }\n  ];\n\n  function run_inline_js() {\n    if (root.Bokeh !== undefined || force === true) {\n          for (let i = 0; i < inline_js.length; i++) {\n      inline_js[i].call(root, root.Bokeh);\n    }\nif (force === true) {\n        display_loaded();\n      }} else if (Date.now() < root._bokeh_timeout) {\n      setTimeout(run_inline_js, 100);\n    } else if (!root._bokeh_failed_load) {\n      console.log(\"Bokeh: BokehJS failed to load within specified timeout.\");\n      root._bokeh_failed_load = true;\n    } else if (force !== true) {\n      const cell = $(document.getElementById(\"7881\")).parents('.cell').data().cell;\n      cell.output_area.append_execute_result(NB_LOAD_WARNING)\n    }\n  }\n\n  if (root._bokeh_is_loading === 0) {\n    console.debug(\"Bokeh: BokehJS loaded, going straight to plotting\");\n    run_inline_js();\n  } else {\n    load_libs(css_urls, js_urls, function() {\n      console.debug(\"Bokeh: BokehJS plotting callback run at\", now());\n      run_inline_js();\n    });\n  }\n}(window));",
      "application/vnd.bokehjs_load.v0+json": ""
     },
     "metadata": {},
     "output_type": "display_data"
    }
   ],
   "source": [
    "from bokeh.io import output_notebook\n",
    "from bokeh.plotting import figure, show\n",
    "from bokeh.io import output_notebook\n",
    "from bokeh.layouts import gridplot\n",
    "from bokeh.transform import jitter\n",
    "\n",
    "output_notebook()"
   ]
  },
  {
   "cell_type": "code",
   "execution_count": 177,
   "metadata": {},
   "outputs": [
    {
     "data": {
      "text/html": [
       "\n",
       "  <div class=\"bk-root\" id=\"af1ab514-5ee2-41b8-909d-557f794eb39a\" data-root-id=\"7437\"></div>\n"
      ]
     },
     "metadata": {},
     "output_type": "display_data"
    },
    {
     "data": {
      "application/javascript": "(function(root) {\n  function embed_document(root) {\n  const docs_json = {\"99cb10a2-ada4-4197-86e5-414e45d8c2a0\":{\"defs\":[],\"roots\":{\"references\":[{\"attributes\":{\"children\":[{\"id\":\"7436\"},{\"id\":\"7434\"}]},\"id\":\"7437\",\"type\":\"Column\"},{\"attributes\":{\"bottom_units\":\"screen\",\"coordinates\":null,\"fill_alpha\":0.5,\"fill_color\":\"lightgrey\",\"group\":null,\"left_units\":\"screen\",\"level\":\"overlay\",\"line_alpha\":1.0,\"line_color\":\"black\",\"line_dash\":[4,4],\"line_width\":2,\"right_units\":\"screen\",\"syncable\":false,\"top_units\":\"screen\"},\"id\":\"7359\",\"type\":\"BoxAnnotation\"},{\"attributes\":{},\"id\":\"7425\",\"type\":\"BasicTickFormatter\"},{\"attributes\":{\"fill_color\":{\"value\":\"#1f77b4\"},\"line_color\":{\"value\":\"#1f77b4\"},\"top\":{\"field\":\"top\"},\"width\":{\"value\":0.5},\"x\":{\"field\":\"x\"}},\"id\":\"7368\",\"type\":\"VBar\"},{\"attributes\":{\"overlay\":{\"id\":\"7359\"}},\"id\":\"7355\",\"type\":\"BoxZoomTool\"},{\"attributes\":{},\"id\":\"7418\",\"type\":\"AllLabels\"},{\"attributes\":{},\"id\":\"7428\",\"type\":\"BasicTickFormatter\"},{\"attributes\":{\"fill_alpha\":{\"value\":0.1},\"fill_color\":{\"value\":\"#1f77b4\"},\"hatch_alpha\":{\"value\":0.1},\"line_alpha\":{\"value\":0.1},\"line_color\":{\"value\":\"#1f77b4\"},\"top\":{\"field\":\"top\"},\"width\":{\"value\":0.5},\"x\":{\"field\":\"x\"}},\"id\":\"7369\",\"type\":\"VBar\"},{\"attributes\":{},\"id\":\"7354\",\"type\":\"WheelZoomTool\"},{\"attributes\":{},\"id\":\"7396\",\"type\":\"ResetTool\"},{\"attributes\":{\"toolbars\":[{\"id\":\"7360\"},{\"id\":\"7399\"}],\"tools\":[{\"id\":\"7353\"},{\"id\":\"7354\"},{\"id\":\"7355\"},{\"id\":\"7356\"},{\"id\":\"7357\"},{\"id\":\"7358\"},{\"id\":\"7392\"},{\"id\":\"7393\"},{\"id\":\"7394\"},{\"id\":\"7395\"},{\"id\":\"7396\"},{\"id\":\"7397\"}]},\"id\":\"7435\",\"type\":\"ProxyToolbar\"},{\"attributes\":{},\"id\":\"7429\",\"type\":\"AllLabels\"},{\"attributes\":{\"coordinates\":null,\"data_source\":{\"id\":\"7406\"},\"glyph\":{\"id\":\"7407\"},\"group\":null,\"hover_glyph\":null,\"muted_glyph\":{\"id\":\"7409\"},\"nonselection_glyph\":{\"id\":\"7408\"},\"view\":{\"id\":\"7411\"}},\"id\":\"7410\",\"type\":\"GlyphRenderer\"},{\"attributes\":{},\"id\":\"7353\",\"type\":\"PanTool\"},{\"attributes\":{},\"id\":\"7376\",\"type\":\"DataRange1d\"},{\"attributes\":{\"fill_color\":{\"value\":\"#1f77b4\"},\"line_color\":{\"value\":\"#1f77b4\"},\"top\":{\"field\":\"top\"},\"width\":{\"value\":0.5},\"x\":{\"field\":\"x\"}},\"id\":\"7407\",\"type\":\"VBar\"},{\"attributes\":{},\"id\":\"7339\",\"type\":\"DataRange1d\"},{\"attributes\":{},\"id\":\"7382\",\"type\":\"LinearScale\"},{\"attributes\":{},\"id\":\"7426\",\"type\":\"AllLabels\"},{\"attributes\":{\"coordinates\":null,\"group\":null,\"text\":\"Hours slept, value counts\"},\"id\":\"7374\",\"type\":\"Title\"},{\"attributes\":{},\"id\":\"7417\",\"type\":\"BasicTickFormatter\"},{\"attributes\":{},\"id\":\"7420\",\"type\":\"Selection\"},{\"attributes\":{},\"id\":\"7414\",\"type\":\"BasicTickFormatter\"},{\"attributes\":{},\"id\":\"7343\",\"type\":\"LinearScale\"},{\"attributes\":{\"axis_label\":\"counts\",\"coordinates\":null,\"formatter\":{\"id\":\"7414\"},\"group\":null,\"major_label_policy\":{\"id\":\"7415\"},\"ticker\":{\"id\":\"7350\"}},\"id\":\"7349\",\"type\":\"LinearAxis\"},{\"attributes\":{\"bottom_units\":\"screen\",\"coordinates\":null,\"fill_alpha\":0.5,\"fill_color\":\"lightgrey\",\"group\":null,\"left_units\":\"screen\",\"level\":\"overlay\",\"line_alpha\":1.0,\"line_color\":\"black\",\"line_dash\":[4,4],\"line_width\":2,\"right_units\":\"screen\",\"syncable\":false,\"top_units\":\"screen\"},\"id\":\"7398\",\"type\":\"BoxAnnotation\"},{\"attributes\":{\"fill_alpha\":{\"value\":0.1},\"fill_color\":{\"value\":\"#1f77b4\"},\"hatch_alpha\":{\"value\":0.1},\"line_alpha\":{\"value\":0.1},\"line_color\":{\"value\":\"#1f77b4\"},\"top\":{\"field\":\"top\"},\"width\":{\"value\":0.5},\"x\":{\"field\":\"x\"}},\"id\":\"7408\",\"type\":\"VBar\"},{\"attributes\":{},\"id\":\"7430\",\"type\":\"UnionRenderers\"},{\"attributes\":{\"toolbar\":{\"id\":\"7435\"},\"toolbar_location\":\"above\"},\"id\":\"7436\",\"type\":\"ToolbarBox\"},{\"attributes\":{},\"id\":\"7431\",\"type\":\"Selection\"},{\"attributes\":{},\"id\":\"7350\",\"type\":\"BasicTicker\"},{\"attributes\":{\"axis\":{\"id\":\"7345\"},\"coordinates\":null,\"group\":null,\"ticker\":null},\"id\":\"7348\",\"type\":\"Grid\"},{\"attributes\":{},\"id\":\"7385\",\"type\":\"BasicTicker\"},{\"attributes\":{},\"id\":\"7415\",\"type\":\"AllLabels\"},{\"attributes\":{\"below\":[{\"id\":\"7384\"}],\"center\":[{\"id\":\"7387\"},{\"id\":\"7391\"}],\"height\":400,\"left\":[{\"id\":\"7388\"}],\"renderers\":[{\"id\":\"7410\"}],\"title\":{\"id\":\"7374\"},\"toolbar\":{\"id\":\"7399\"},\"toolbar_location\":null,\"width\":400,\"x_range\":{\"id\":\"7376\"},\"x_scale\":{\"id\":\"7380\"},\"y_range\":{\"id\":\"7378\"},\"y_scale\":{\"id\":\"7382\"}},\"id\":\"7373\",\"subtype\":\"Figure\",\"type\":\"Plot\"},{\"attributes\":{\"axis\":{\"id\":\"7388\"},\"coordinates\":null,\"dimension\":1,\"group\":null,\"ticker\":null},\"id\":\"7391\",\"type\":\"Grid\"},{\"attributes\":{},\"id\":\"7389\",\"type\":\"BasicTicker\"},{\"attributes\":{\"axis_label\":\"Sleep (hours)\",\"coordinates\":null,\"formatter\":{\"id\":\"7428\"},\"group\":null,\"major_label_policy\":{\"id\":\"7429\"},\"ticker\":{\"id\":\"7385\"}},\"id\":\"7384\",\"type\":\"LinearAxis\"},{\"attributes\":{},\"id\":\"7357\",\"type\":\"ResetTool\"},{\"attributes\":{},\"id\":\"7392\",\"type\":\"PanTool\"},{\"attributes\":{\"below\":[{\"id\":\"7345\"}],\"center\":[{\"id\":\"7348\"},{\"id\":\"7352\"}],\"height\":400,\"left\":[{\"id\":\"7349\"}],\"renderers\":[{\"id\":\"7371\"}],\"title\":{\"id\":\"7335\"},\"toolbar\":{\"id\":\"7360\"},\"toolbar_location\":null,\"width\":400,\"x_range\":{\"id\":\"7337\"},\"x_scale\":{\"id\":\"7341\"},\"y_range\":{\"id\":\"7339\"},\"y_scale\":{\"id\":\"7343\"}},\"id\":\"7334\",\"subtype\":\"Figure\",\"type\":\"Plot\"},{\"attributes\":{\"source\":{\"id\":\"7367\"}},\"id\":\"7372\",\"type\":\"CDSView\"},{\"attributes\":{},\"id\":\"7358\",\"type\":\"HelpTool\"},{\"attributes\":{\"fill_alpha\":{\"value\":0.2},\"fill_color\":{\"value\":\"#1f77b4\"},\"hatch_alpha\":{\"value\":0.2},\"line_alpha\":{\"value\":0.2},\"line_color\":{\"value\":\"#1f77b4\"},\"top\":{\"field\":\"top\"},\"width\":{\"value\":0.5},\"x\":{\"field\":\"x\"}},\"id\":\"7409\",\"type\":\"VBar\"},{\"attributes\":{\"data\":{\"top\":[40,27,23,10,4],\"x\":[3,2,4,5,1]},\"selected\":{\"id\":\"7420\"},\"selection_policy\":{\"id\":\"7419\"}},\"id\":\"7367\",\"type\":\"ColumnDataSource\"},{\"attributes\":{\"axis\":{\"id\":\"7349\"},\"coordinates\":null,\"dimension\":1,\"group\":null,\"ticker\":null},\"id\":\"7352\",\"type\":\"Grid\"},{\"attributes\":{\"axis_label\":\"counts\",\"coordinates\":null,\"formatter\":{\"id\":\"7425\"},\"group\":null,\"major_label_policy\":{\"id\":\"7426\"},\"ticker\":{\"id\":\"7389\"}},\"id\":\"7388\",\"type\":\"LinearAxis\"},{\"attributes\":{\"children\":[[{\"id\":\"7334\"},0,0],[{\"id\":\"7373\"},0,1]]},\"id\":\"7434\",\"type\":\"GridBox\"},{\"attributes\":{},\"id\":\"7380\",\"type\":\"LinearScale\"},{\"attributes\":{},\"id\":\"7393\",\"type\":\"WheelZoomTool\"},{\"attributes\":{},\"id\":\"7378\",\"type\":\"DataRange1d\"},{\"attributes\":{},\"id\":\"7356\",\"type\":\"SaveTool\"},{\"attributes\":{},\"id\":\"7397\",\"type\":\"HelpTool\"},{\"attributes\":{},\"id\":\"7341\",\"type\":\"LinearScale\"},{\"attributes\":{\"data\":{\"top\":[35,24,16,12,8,4,2,1],\"x\":{\"__ndarray__\":\"AAAAAAAAHEAAAAAAAAAYQAAAAAAAACBAAAAAAAAAFEAAAAAAAAAiQAAAAAAAABBAAAAAAAAAAEAAAAAAAAAkQA==\",\"dtype\":\"float64\",\"order\":\"little\",\"shape\":[8]}},\"selected\":{\"id\":\"7431\"},\"selection_policy\":{\"id\":\"7430\"}},\"id\":\"7406\",\"type\":\"ColumnDataSource\"},{\"attributes\":{\"source\":{\"id\":\"7406\"}},\"id\":\"7411\",\"type\":\"CDSView\"},{\"attributes\":{},\"id\":\"7395\",\"type\":\"SaveTool\"},{\"attributes\":{\"coordinates\":null,\"group\":null,\"text\":\"Tired, value counts\"},\"id\":\"7335\",\"type\":\"Title\"},{\"attributes\":{\"axis_label\":\"Tired score (1 - 5)\",\"coordinates\":null,\"formatter\":{\"id\":\"7417\"},\"group\":null,\"major_label_policy\":{\"id\":\"7418\"},\"ticker\":{\"id\":\"7346\"}},\"id\":\"7345\",\"type\":\"LinearAxis\"},{\"attributes\":{},\"id\":\"7419\",\"type\":\"UnionRenderers\"},{\"attributes\":{\"axis\":{\"id\":\"7384\"},\"coordinates\":null,\"group\":null,\"ticker\":null},\"id\":\"7387\",\"type\":\"Grid\"},{\"attributes\":{\"coordinates\":null,\"data_source\":{\"id\":\"7367\"},\"glyph\":{\"id\":\"7368\"},\"group\":null,\"hover_glyph\":null,\"muted_glyph\":{\"id\":\"7370\"},\"nonselection_glyph\":{\"id\":\"7369\"},\"view\":{\"id\":\"7372\"}},\"id\":\"7371\",\"type\":\"GlyphRenderer\"},{\"attributes\":{\"tools\":[{\"id\":\"7392\"},{\"id\":\"7393\"},{\"id\":\"7394\"},{\"id\":\"7395\"},{\"id\":\"7396\"},{\"id\":\"7397\"}]},\"id\":\"7399\",\"type\":\"Toolbar\"},{\"attributes\":{\"tools\":[{\"id\":\"7353\"},{\"id\":\"7354\"},{\"id\":\"7355\"},{\"id\":\"7356\"},{\"id\":\"7357\"},{\"id\":\"7358\"}]},\"id\":\"7360\",\"type\":\"Toolbar\"},{\"attributes\":{},\"id\":\"7337\",\"type\":\"DataRange1d\"},{\"attributes\":{\"overlay\":{\"id\":\"7398\"}},\"id\":\"7394\",\"type\":\"BoxZoomTool\"},{\"attributes\":{\"fill_alpha\":{\"value\":0.2},\"fill_color\":{\"value\":\"#1f77b4\"},\"hatch_alpha\":{\"value\":0.2},\"line_alpha\":{\"value\":0.2},\"line_color\":{\"value\":\"#1f77b4\"},\"top\":{\"field\":\"top\"},\"width\":{\"value\":0.5},\"x\":{\"field\":\"x\"}},\"id\":\"7370\",\"type\":\"VBar\"},{\"attributes\":{},\"id\":\"7346\",\"type\":\"BasicTicker\"}],\"root_ids\":[\"7437\"]},\"title\":\"Bokeh Application\",\"version\":\"2.4.3\"}};\n  const render_items = [{\"docid\":\"99cb10a2-ada4-4197-86e5-414e45d8c2a0\",\"root_ids\":[\"7437\"],\"roots\":{\"7437\":\"af1ab514-5ee2-41b8-909d-557f794eb39a\"}}];\n  root.Bokeh.embed.embed_items_notebook(docs_json, render_items);\n  }\n  if (root.Bokeh !== undefined) {\n    embed_document(root);\n  } else {\n    let attempts = 0;\n    const timer = setInterval(function(root) {\n      if (root.Bokeh !== undefined) {\n        clearInterval(timer);\n        embed_document(root);\n      } else {\n        attempts++;\n        if (attempts > 100) {\n          clearInterval(timer);\n          console.log(\"Bokeh: ERROR: Unable to run BokehJS code because BokehJS library is missing\");\n        }\n      }\n    }, 10, root)\n  }\n})(window);",
      "application/vnd.bokehjs_exec.v0+json": ""
     },
     "metadata": {
      "application/vnd.bokehjs_exec.v0+json": {
       "id": "7437"
      }
     },
     "output_type": "display_data"
    }
   ],
   "source": [
    "# code your answer to the value counts and distribution plots here\n",
    "vc_tired = df['Tired'].value_counts()\n",
    "vc_hours = df['Hours'].value_counts()\n",
    "\n",
    "p1 = figure(title='Tired, value counts', x_axis_label='Tired score (1 - 5)',\n",
    "            y_axis_label = 'counts')\n",
    "p1.vbar(x=vc_tired.index, top=vc_tired.values, width=0.5)\n",
    "\n",
    "p2 = figure(title='Hours slept, value counts', x_axis_label='Sleep (hours)',\n",
    "            y_axis_label = 'counts')\n",
    "p2.vbar(x=vc_hours.index, top=vc_hours.values, width=0.5)\n",
    "\n",
    "show(gridplot(children=[[p1,p2]], width = 400, height = 400))"
   ]
  },
  {
   "cell_type": "code",
   "execution_count": 213,
   "metadata": {},
   "outputs": [
    {
     "data": {
      "text/html": [
       "\n",
       "  <div class=\"bk-root\" id=\"20ef35a6-5555-4b57-96cf-78e10bfb54a9\" data-root-id=\"21400\"></div>\n"
      ]
     },
     "metadata": {},
     "output_type": "display_data"
    },
    {
     "data": {
      "application/javascript": "(function(root) {\n  function embed_document(root) {\n  const docs_json = {\"e5cfe338-613b-45ba-9364-c4bb0262dc7a\":{\"defs\":[],\"roots\":{\"references\":[{\"attributes\":{\"below\":[{\"id\":\"21411\"}],\"center\":[{\"id\":\"21414\"},{\"id\":\"21418\"},{\"id\":\"21452\"}],\"left\":[{\"id\":\"21415\"}],\"renderers\":[{\"id\":\"21440\"},{\"id\":\"21461\"}],\"title\":{\"id\":\"21401\"},\"toolbar\":{\"id\":\"21426\"},\"x_range\":{\"id\":\"21403\"},\"x_scale\":{\"id\":\"21407\"},\"y_range\":{\"id\":\"21405\"},\"y_scale\":{\"id\":\"21409\"}},\"id\":\"21400\",\"subtype\":\"Figure\",\"type\":\"Plot\"},{\"attributes\":{\"label\":{\"value\":\"Breakfast\"},\"renderers\":[{\"id\":\"21440\"}]},\"id\":\"21453\",\"type\":\"LegendItem\"},{\"attributes\":{\"axis_label\":\"Hours slept (Hours)\",\"coordinates\":null,\"formatter\":{\"id\":\"21447\"},\"group\":null,\"major_label_policy\":{\"id\":\"21448\"},\"ticker\":{\"id\":\"21412\"}},\"id\":\"21411\",\"type\":\"LinearAxis\"},{\"attributes\":{\"source\":{\"id\":\"21456\"}},\"id\":\"21462\",\"type\":\"CDSView\"},{\"attributes\":{\"coordinates\":null,\"data_source\":{\"id\":\"21456\"},\"glyph\":{\"id\":\"21458\"},\"group\":null,\"hover_glyph\":null,\"muted_glyph\":{\"id\":\"21460\"},\"nonselection_glyph\":{\"id\":\"21459\"},\"view\":{\"id\":\"21462\"}},\"id\":\"21461\",\"type\":\"GlyphRenderer\"},{\"attributes\":{\"axis_label\":\"Sleep score (1-5)\",\"coordinates\":null,\"formatter\":{\"id\":\"21444\"},\"group\":null,\"major_label_policy\":{\"id\":\"21445\"},\"ticker\":{\"id\":\"21416\"}},\"id\":\"21415\",\"type\":\"LinearAxis\"},{\"attributes\":{},\"id\":\"21449\",\"type\":\"UnionRenderers\"},{\"attributes\":{\"fill_alpha\":{\"value\":0.1},\"fill_color\":{\"value\":\"green\"},\"hatch_alpha\":{\"value\":0.1},\"hatch_color\":{\"value\":\"green\"},\"line_alpha\":{\"value\":0.1},\"line_color\":{\"value\":\"green\"},\"size\":{\"value\":10},\"x\":{\"field\":\"Hours\",\"transform\":{\"id\":\"21454\"}},\"y\":{\"field\":\"Tired\",\"transform\":{\"id\":\"21455\"}}},\"id\":\"21459\",\"type\":\"Circle\"},{\"attributes\":{\"fill_alpha\":{\"value\":0.2},\"fill_color\":{\"value\":\"green\"},\"hatch_alpha\":{\"value\":0.2},\"hatch_color\":{\"value\":\"green\"},\"line_alpha\":{\"value\":0.2},\"line_color\":{\"value\":\"green\"},\"size\":{\"value\":10},\"x\":{\"field\":\"Hours\",\"transform\":{\"id\":\"21454\"}},\"y\":{\"field\":\"Tired\",\"transform\":{\"id\":\"21455\"}}},\"id\":\"21460\",\"type\":\"Circle\"},{\"attributes\":{\"fill_alpha\":{\"value\":0.1},\"fill_color\":{\"value\":\"orange\"},\"hatch_alpha\":{\"value\":0.1},\"hatch_color\":{\"value\":\"orange\"},\"line_alpha\":{\"value\":0.1},\"line_color\":{\"value\":\"orange\"},\"size\":{\"value\":10},\"x\":{\"field\":\"Hours\",\"transform\":{\"id\":\"21433\"}},\"y\":{\"field\":\"Tired\",\"transform\":{\"id\":\"21434\"}}},\"id\":\"21438\",\"type\":\"Circle\"},{\"attributes\":{\"data\":{\"Breakfast\":[\"Yes\",\"Yes\",\"Yes\",\"Yes\",\"Yes\",\"Yes\",\"Yes\",\"Yes\",\"Yes\",\"Yes\",\"Yes\",\"Yes\",\"Yes\",\"Yes\",\"Yes\",\"Yes\",\"Yes\",\"Yes\",\"Yes\",\"Yes\",\"Yes\",\"Yes\",\"Yes\",\"Yes\",\"Yes\",\"Yes\",\"Yes\",\"Yes\",\"Yes\",\"Yes\",\"Yes\",\"Yes\",\"Yes\",\"Yes\",\"Yes\",\"Yes\",\"Yes\",\"Yes\",\"Yes\",\"Yes\",\"Yes\",\"Yes\",\"Yes\",\"Yes\",\"Yes\",\"Yes\",\"Yes\",\"Yes\",\"Yes\",\"Yes\",\"Yes\",\"Yes\",\"Yes\",\"Yes\",\"Yes\",\"Yes\",\"Yes\",\"Yes\",\"Yes\",\"Yes\",\"Yes\",\"Yes\",\"Yes\"],\"Enough\":[\"Yes\",\"Yes\",\"No\",\"Yes\",\"No\",\"No\",\"No\",\"No\",\"Yes\",\"Yes\",\"Yes\",\"No\",\"No\",\"No\",\"No\",\"Yes\",\"Yes\",\"Yes\",\"No\",\"No\",\"No\",\"Yes\",\"Yes\",\"Yes\",\"No\",\"No\",\"Yes\",\"No\",\"No\",\"No\",\"No\",\"No\",\"No\",\"No\",\"No\",\"No\",\"No\",\"No\",\"No\",\"No\",\"Yes\",\"No\",\"No\",\"Yes\",\"No\",\"No\",\"Yes\",\"Yes\",\"No\",\"No\",\"No\",\"Yes\",\"No\",\"Yes\",\"Yes\",\"Yes\",\"Yes\",\"No\",\"No\",\"No\",\"Yes\",\"Yes\",\"Yes\"],\"Hours\":{\"__ndarray__\":\"AAAAAAAAIEAAAAAAAAAYQAAAAAAAABxAAAAAAAAAHEAAAAAAAAAcQAAAAAAAABBAAAAAAAAAGEAAAAAAAAAcQAAAAAAAABxAAAAAAAAAGEAAAAAAAAAgQAAAAAAAACJAAAAAAAAAEEAAAAAAAAAUQAAAAAAAABxAAAAAAAAAHEAAAAAAAAAiQAAAAAAAACBAAAAAAAAAIEAAAAAAAAAcQAAAAAAAABxAAAAAAAAAHEAAAAAAAAAiQAAAAAAAACBAAAAAAAAAHEAAAAAAAAAYQAAAAAAAACJAAAAAAAAAFEAAAAAAAAAYQAAAAAAAABBAAAAAAAAAIEAAAAAAAAAcQAAAAAAAABxAAAAAAAAAFEAAAAAAAAAiQAAAAAAAABxAAAAAAAAAHEAAAAAAAAD4fwAAAAAAABxAAAAAAAAAGEAAAAAAAAAYQAAAAAAAABRAAAAAAAAAGEAAAAAAAAAcQAAAAAAAACBAAAAAAAAAGEAAAAAAAAAgQAAAAAAAACBAAAAAAAAAIkAAAAAAAAAUQAAAAAAAABhAAAAAAAAAIEAAAAAAAAAcQAAAAAAAAPh/AAAAAAAAHEAAAAAAAAAiQAAAAAAAABxAAAAAAAAAHEAAAAAAAAAcQAAAAAAAABxAAAAAAAAAIEAAAAAAAAAcQAAAAAAAABhA\",\"dtype\":\"float64\",\"order\":\"little\",\"shape\":[63]},\"PhoneReach\":[\"Yes\",\"Yes\",\"Yes\",\"Yes\",\"Yes\",\"No\",\"Yes\",\"Yes\",\"No\",\"Yes\",\"Yes\",\"Yes\",\"Yes\",\"Yes\",\"Yes\",\"Yes\",\"No\",\"Yes\",\"No\",\"No\",\"Yes\",\"No\",\"No\",\"No\",\"No\",\"Yes\",\"Yes\",\"No\",\"No\",\"Yes\",\"Yes\",\"No\",\"Yes\",\"No\",\"Yes\",\"Yes\",\"Yes\",\"Yes\",\"Yes\",\"Yes\",\"No\",\"Yes\",\"No\",\"Yes\",\"Yes\",\"Yes\",\"No\",\"No\",\"No\",\"Yes\",\"Yes\",\"No\",\"No\",\"No\",\"No\",\"No\",\"No\",\"Yes\",\"Yes\",\"No\",\"Yes\",\"Yes\",\"Yes\"],\"PhoneTime\":[\"Yes\",\"Yes\",\"Yes\",\"Yes\",\"Yes\",\"Yes\",\"Yes\",\"Yes\",\"Yes\",\"Yes\",\"Yes\",\"Yes\",\"Yes\",\"No\",\"No\",\"No\",\"No\",\"Yes\",\"Yes\",\"Yes\",\"Yes\",\"No\",\"Yes\",\"Yes\",\"Yes\",\"Yes\",\"Yes\",\"No\",\"Yes\",\"Yes\",\"Yes\",\"Yes\",\"Yes\",\"Yes\",\"No\",\"Yes\",\"Yes\",\"No\",\"Yes\",\"Yes\",\"Yes\",\"Yes\",\"Yes\",\"Yes\",\"Yes\",\"Yes\",\"No\",\"Yes\",\"Yes\",\"No\",\"No\",\"Yes\",\"Yes\",\"Yes\",\"Yes\",\"No\",\"Yes\",\"Yes\",\"Yes\",\"Yes\",\"Yes\",\"Yes\",\"Yes\"],\"Tired\":[3,2,2,3,3,2,3,2,3,4,3,3,2,3,3,2,2,2,3,3,3,2,2,1,4,3,1,5,3,2,3,4,3,2,4,3,4,3,3,3,4,4,5,4,4,3,2,1,5,4,2,3,4,2,2,2,2,4,2,3,3,2,3],\"index\":[0,2,4,6,7,8,9,11,14,16,17,18,21,22,23,28,29,30,31,34,35,36,37,40,41,43,46,47,48,49,51,52,54,55,58,61,64,65,67,69,70,71,73,74,76,78,83,84,86,87,88,89,90,91,92,93,95,96,99,100,101,102,103]},\"selected\":{\"id\":\"21450\"},\"selection_policy\":{\"id\":\"21449\"}},\"id\":\"21435\",\"type\":\"ColumnDataSource\"},{\"attributes\":{\"coordinates\":null,\"data_source\":{\"id\":\"21435\"},\"glyph\":{\"id\":\"21437\"},\"group\":null,\"hover_glyph\":null,\"muted_glyph\":{\"id\":\"21439\"},\"nonselection_glyph\":{\"id\":\"21438\"},\"view\":{\"id\":\"21441\"}},\"id\":\"21440\",\"type\":\"GlyphRenderer\"},{\"attributes\":{},\"id\":\"21403\",\"type\":\"DataRange1d\"},{\"attributes\":{},\"id\":\"21424\",\"type\":\"HelpTool\"},{\"attributes\":{\"source\":{\"id\":\"21435\"}},\"id\":\"21441\",\"type\":\"CDSView\"},{\"attributes\":{\"fill_alpha\":{\"value\":0.2},\"fill_color\":{\"value\":\"orange\"},\"hatch_alpha\":{\"value\":0.2},\"hatch_color\":{\"value\":\"orange\"},\"line_alpha\":{\"value\":0.2},\"line_color\":{\"value\":\"orange\"},\"size\":{\"value\":10},\"x\":{\"field\":\"Hours\",\"transform\":{\"id\":\"21433\"}},\"y\":{\"field\":\"Tired\",\"transform\":{\"id\":\"21434\"}}},\"id\":\"21439\",\"type\":\"Circle\"},{\"attributes\":{},\"id\":\"21420\",\"type\":\"WheelZoomTool\"},{\"attributes\":{},\"id\":\"21407\",\"type\":\"LinearScale\"},{\"attributes\":{},\"id\":\"21416\",\"type\":\"BasicTicker\"},{\"attributes\":{\"fill_alpha\":{\"value\":0.5},\"fill_color\":{\"value\":\"orange\"},\"hatch_alpha\":{\"value\":0.5},\"hatch_color\":{\"value\":\"orange\"},\"line_alpha\":{\"value\":0.5},\"line_color\":{\"value\":\"orange\"},\"size\":{\"value\":10},\"x\":{\"field\":\"Hours\",\"transform\":{\"id\":\"21433\"}},\"y\":{\"field\":\"Tired\",\"transform\":{\"id\":\"21434\"}}},\"id\":\"21437\",\"type\":\"Circle\"},{\"attributes\":{\"tools\":[{\"id\":\"21419\"},{\"id\":\"21420\"},{\"id\":\"21421\"},{\"id\":\"21422\"},{\"id\":\"21423\"},{\"id\":\"21424\"}]},\"id\":\"21426\",\"type\":\"Toolbar\"},{\"attributes\":{\"range\":null,\"width\":0.3},\"id\":\"21434\",\"type\":\"Jitter\"},{\"attributes\":{\"overlay\":{\"id\":\"21425\"}},\"id\":\"21421\",\"type\":\"BoxZoomTool\"},{\"attributes\":{\"range\":null,\"width\":0.3},\"id\":\"21455\",\"type\":\"Jitter\"},{\"attributes\":{\"range\":null,\"width\":0.2},\"id\":\"21454\",\"type\":\"Jitter\"},{\"attributes\":{\"data\":{\"Breakfast\":[\"No\",\"No\",\"No\",\"No\",\"No\",\"No\",\"No\",\"No\",\"No\",\"No\",\"No\",\"No\",\"No\",\"No\",\"No\",\"No\",\"No\",\"No\",\"No\",\"No\",\"No\",\"No\",\"No\",\"No\",\"No\",\"No\",\"No\",\"No\",\"No\",\"No\",\"No\",\"No\",\"No\",\"No\",\"No\",\"No\",\"No\",\"No\",\"No\",\"No\",\"No\"],\"Enough\":[\"No\",\"No\",\"No\",\"No\",\"Yes\",\"Yes\",\"Yes\",\"Yes\",\"No\",\"No\",\"No\",\"No\",\"No\",\"No\",\"No\",\"No\",\"No\",\"No\",\"No\",\"No\",\"No\",\"No\",\"No\",\"No\",\"Yes\",\"No\",\"No\",\"No\",\"Yes\",\"Yes\",\"No\",\"No\",\"Yes\",\"No\",\"Yes\",\"No\",\"No\",\"No\",\"Yes\",\"Yes\",\"No\"],\"Hours\":{\"__ndarray__\":\"AAAAAAAAGEAAAAAAAAAcQAAAAAAAABxAAAAAAAAAJEAAAAAAAAAcQAAAAAAAACBAAAAAAAAAIEAAAAAAAAAgQAAAAAAAAABAAAAAAAAAFEAAAAAAAAAcQAAAAAAAABhAAAAAAAAAGEAAAAAAAAAYQAAAAAAAABhAAAAAAAAAFEAAAAAAAAAcQAAAAAAAABRAAAAAAAAAEEAAAAAAAAAcQAAAAAAAABRAAAAAAAAAFEAAAAAAAAAYQAAAAAAAACJAAAAAAAAAHEAAAAAAAAAYQAAAAAAAAABAAAAAAAAAIEAAAAAAAAAcQAAAAAAAABxAAAAAAAAAFEAAAAAAAAAYQAAAAAAAABhAAAAAAAAAHEAAAAAAAAAYQAAAAAAAABhAAAAAAAAAFEAAAAAAAAAYQAAAAAAAACBAAAAAAAAAHEAAAAAAAAAYQA==\",\"dtype\":\"float64\",\"order\":\"little\",\"shape\":[41]},\"PhoneReach\":[\"Yes\",\"Yes\",\"Yes\",\"Yes\",\"Yes\",\"Yes\",\"Yes\",\"Yes\",\"Yes\",\"Yes\",\"No\",\"Yes\",\"Yes\",\"Yes\",\"No\",\"Yes\",\"Yes\",\"Yes\",\"No\",\"Yes\",\"Yes\",\"Yes\",\"Yes\",\"No\",\"Yes\",\"Yes\",\"No\",\"Yes\",\"Yes\",\"Yes\",\"Yes\",\"No\",\"Yes\",\"Yes\",\"Yes\",\"Yes\",\"No\",\"Yes\",\"Yes\",\"Yes\",\"Yes\"],\"PhoneTime\":[\"Yes\",\"Yes\",\"Yes\",\"Yes\",\"Yes\",\"Yes\",\"Yes\",\"Yes\",\"Yes\",\"Yes\",\"Yes\",\"Yes\",\"Yes\",\"Yes\",\"No\",\"No\",\"Yes\",\"Yes\",\"No\",\"Yes\",\"No\",\"Yes\",\"Yes\",\"Yes\",\"Yes\",\"Yes\",\"No\",\"Yes\",\"No\",\"No\",\"Yes\",\"Yes\",\"Yes\",\"Yes\",\"Yes\",\"Yes\",\"No\",\"Yes\",\"Yes\",\"Yes\",\"Yes\"],\"Tired\":[3,4,4,4,3,2,3,3,5,2,5,3,2,4,3,5,2,3,5,4,3,2,3,5,2,3,5,5,1,3,4,4,4,4,3,3,4,3,4,2,3],\"index\":[1,3,5,10,12,13,15,19,20,24,25,26,27,32,33,38,39,42,44,45,50,53,56,57,59,60,62,63,66,68,72,75,77,79,80,81,82,85,94,97,98]},\"selected\":{\"id\":\"21473\"},\"selection_policy\":{\"id\":\"21472\"}},\"id\":\"21456\",\"type\":\"ColumnDataSource\"},{\"attributes\":{},\"id\":\"21423\",\"type\":\"ResetTool\"},{\"attributes\":{},\"id\":\"21473\",\"type\":\"Selection\"},{\"attributes\":{},\"id\":\"21422\",\"type\":\"SaveTool\"},{\"attributes\":{\"range\":null,\"width\":0.2},\"id\":\"21433\",\"type\":\"Jitter\"},{\"attributes\":{},\"id\":\"21419\",\"type\":\"PanTool\"},{\"attributes\":{},\"id\":\"21444\",\"type\":\"BasicTickFormatter\"},{\"attributes\":{\"label\":{\"value\":\"No Breakfast\"},\"renderers\":[{\"id\":\"21461\"}]},\"id\":\"21475\",\"type\":\"LegendItem\"},{\"attributes\":{},\"id\":\"21448\",\"type\":\"AllLabels\"},{\"attributes\":{},\"id\":\"21412\",\"type\":\"BasicTicker\"},{\"attributes\":{},\"id\":\"21447\",\"type\":\"BasicTickFormatter\"},{\"attributes\":{},\"id\":\"21472\",\"type\":\"UnionRenderers\"},{\"attributes\":{\"coordinates\":null,\"group\":null,\"text\":\"Hours slept against tiredness\"},\"id\":\"21401\",\"type\":\"Title\"},{\"attributes\":{},\"id\":\"21405\",\"type\":\"DataRange1d\"},{\"attributes\":{\"axis\":{\"id\":\"21415\"},\"coordinates\":null,\"dimension\":1,\"group\":null,\"ticker\":null},\"id\":\"21418\",\"type\":\"Grid\"},{\"attributes\":{},\"id\":\"21445\",\"type\":\"AllLabels\"},{\"attributes\":{\"bottom_units\":\"screen\",\"coordinates\":null,\"fill_alpha\":0.5,\"fill_color\":\"lightgrey\",\"group\":null,\"left_units\":\"screen\",\"level\":\"overlay\",\"line_alpha\":1.0,\"line_color\":\"black\",\"line_dash\":[4,4],\"line_width\":2,\"right_units\":\"screen\",\"syncable\":false,\"top_units\":\"screen\"},\"id\":\"21425\",\"type\":\"BoxAnnotation\"},{\"attributes\":{\"coordinates\":null,\"group\":null,\"items\":[{\"id\":\"21453\"},{\"id\":\"21475\"}]},\"id\":\"21452\",\"type\":\"Legend\"},{\"attributes\":{\"axis\":{\"id\":\"21411\"},\"coordinates\":null,\"group\":null,\"ticker\":null},\"id\":\"21414\",\"type\":\"Grid\"},{\"attributes\":{\"fill_alpha\":{\"value\":0.5},\"fill_color\":{\"value\":\"green\"},\"hatch_alpha\":{\"value\":0.5},\"hatch_color\":{\"value\":\"green\"},\"line_alpha\":{\"value\":0.5},\"line_color\":{\"value\":\"green\"},\"size\":{\"value\":10},\"x\":{\"field\":\"Hours\",\"transform\":{\"id\":\"21454\"}},\"y\":{\"field\":\"Tired\",\"transform\":{\"id\":\"21455\"}}},\"id\":\"21458\",\"type\":\"Circle\"},{\"attributes\":{},\"id\":\"21409\",\"type\":\"LinearScale\"},{\"attributes\":{},\"id\":\"21450\",\"type\":\"Selection\"}],\"root_ids\":[\"21400\"]},\"title\":\"Bokeh Application\",\"version\":\"2.4.3\"}};\n  const render_items = [{\"docid\":\"e5cfe338-613b-45ba-9364-c4bb0262dc7a\",\"root_ids\":[\"21400\"],\"roots\":{\"21400\":\"20ef35a6-5555-4b57-96cf-78e10bfb54a9\"}}];\n  root.Bokeh.embed.embed_items_notebook(docs_json, render_items);\n  }\n  if (root.Bokeh !== undefined) {\n    embed_document(root);\n  } else {\n    let attempts = 0;\n    const timer = setInterval(function(root) {\n      if (root.Bokeh !== undefined) {\n        clearInterval(timer);\n        embed_document(root);\n      } else {\n        attempts++;\n        if (attempts > 100) {\n          clearInterval(timer);\n          console.log(\"Bokeh: ERROR: Unable to run BokehJS code because BokehJS library is missing\");\n        }\n      }\n    }, 10, root)\n  }\n})(window);",
      "application/vnd.bokehjs_exec.v0+json": ""
     },
     "metadata": {
      "application/vnd.bokehjs_exec.v0+json": {
       "id": "21400"
      }
     },
     "output_type": "display_data"
    }
   ],
   "source": [
    "p = figure(title = 'Hours slept against tiredness',\n",
    "           x_axis_label = 'Hours slept (Hours)', \n",
    "           y_axis_label = 'Sleep score (1-5)')\n",
    "\n",
    "# breakfast = Yes\n",
    "p.circle(x=jitter('Hours',width=0.2), y=jitter('Tired', width=0.3), \n",
    "         source = df[df['Breakfast'] == 'Yes'],\n",
    "         color = 'orange', legend_label = 'Breakfast', alpha=0.5, size=10)\n",
    "\n",
    "\n",
    "# breakfast = No\n",
    "p.circle(x=jitter('Hours',width=0.2), y=jitter('Tired', width=0.3), \n",
    "         source = df[df['Breakfast'] == 'No'],\n",
    "         color = 'green', legend_label = 'No Breakfast', alpha=0.5, size=10)\n",
    "\n",
    "\n",
    "show(p)"
   ]
  },
  {
   "cell_type": "code",
   "execution_count": 237,
   "metadata": {},
   "outputs": [],
   "source": [
    "#code your answer to the target statistics here"
   ]
  },
  {
   "cell_type": "code",
   "execution_count": 225,
   "metadata": {},
   "outputs": [],
   "source": [
    "df_dummies = pd.get_dummies(df, drop_first=True)"
   ]
  },
  {
   "cell_type": "code",
   "execution_count": 236,
   "metadata": {},
   "outputs": [
    {
     "name": "stdout",
     "output_type": "stream",
     "text": [
      "\n",
      "      There seems to be a relatively strong negative correlation between\n",
      "      'Enough_Yes' and 'Tired', surprisingly there doesn't seem to be much of\n",
      "      any correlation between tired and hours.\n",
      "      \n"
     ]
    },
    {
     "data": {
      "image/png": "[encoded data removed]",
      "text/plain": [
       "<Figure size 640x480 with 2 Axes>"
      ]
     },
     "metadata": {},
     "output_type": "display_data"
    }
   ],
   "source": [
    "#code your answer for the heatmap here and briefly state your finding\n",
    "\n",
    "import matplotlib.pyplot as plt\n",
    "import seaborn as sns\n",
    "\n",
    "sns.heatmap(df_dummies.corr(), cmap='viridis', annot=True)\n",
    "\n",
    "print(\"\"\"\n",
    "      There seems to be a relatively strong negative correlation between\n",
    "      'Enough_Yes' and 'Tired', surprisingly there doesn't seem to be\n",
    "      a strong correlation between tired and hours.\n",
    "      \"\"\")"
   ]
  },
  {
   "cell_type": "markdown",
   "metadata": {},
   "source": [
    "---"
   ]
  },
  {
   "cell_type": "markdown",
   "metadata": {},
   "source": [
    "<a name='2'></a>\n",
    "## Part 3: Check Assumptions\n",
    "\n",
    "Before we answer the research question with ANOVA we need to check the following assumptions:\n",
    "\n",
    "1. ANOVA assumes that the dependent variable is normaly distributed\n",
    "2. ANOVA also assumes homogeneity of variance\n",
    "3. ANOVA also assumes that the observations are independent of each other. Most of the time we need domain knowledge and experiment setup descriptions to estimate this assumption\n",
    "\n",
    "We are going to do this graphically and statistically. "
   ]
  },
  {
   "cell_type": "markdown",
   "metadata": {},
   "source": [
    "<a name='ex-31'></a>\n",
    "### Check normality (10 pt)\n",
    "\n",
    "<ul><li>\n",
    "Plot the distribution of the dependent variable. Add a vertical line at the position of the average. Add a vertical line for the robuust estimation. Add the normal distribution line to the plot. Comment on the normallity of the data. Do you want the full points? Plot with bokeh!</li>\n",
    "\n",
    "<li>Use a Shapiro-Wilk Test or an Anderson-Darling test to check statistically</li></ul>\n",
    "\n",
    "\n",
    "<details>    \n",
    "<summary>\n",
    "    <font size=\"3\" color=\"darkgreen\"><b>Hints</b></font>\n",
    "</summary>\n",
    "    <ul><li>check the code of lesson 1 DS1 bayesian statistics</li>\n",
    "        <li>heart_failure case of gitbook uses bokeh histograms</li>\n",
    "</ul>\n",
    "</details>"
   ]
  },
  {
   "cell_type": "code",
   "execution_count": 8,
   "metadata": {},
   "outputs": [],
   "source": [
    "# your code to plot here"
   ]
  },
  {
   "cell_type": "code",
   "execution_count": 9,
   "metadata": {},
   "outputs": [],
   "source": [
    "# briefly summarize your findings"
   ]
  },
  {
   "cell_type": "markdown",
   "metadata": {},
   "source": [
    "<a name='ex-32'></a>\n",
    "### Check homogeneity of variance (20 pt)\n",
    "\n",
    "<ul><li>\n",
    "Use boxplots for the check of homoegeneity of variance. Do you want the full points? Plot with bokeh!</li>\n",
    "\n",
    "<li>Use a Levene’s & Bartlett’s Test of Equality (Homogeneity) of Variance to test equal variance statistically</li><ul>"
   ]
  },
  {
   "cell_type": "code",
   "execution_count": 10,
   "metadata": {},
   "outputs": [],
   "source": [
    "# your code to plot here"
   ]
  },
  {
   "cell_type": "code",
   "execution_count": 11,
   "metadata": {},
   "outputs": [],
   "source": [
    "# your code for the statistical test here"
   ]
  },
  {
   "cell_type": "code",
   "execution_count": 12,
   "metadata": {},
   "outputs": [],
   "source": [
    "# briefly summarize your findings"
   ]
  },
  {
   "cell_type": "markdown",
   "metadata": {},
   "source": [
    "---"
   ]
  },
  {
   "cell_type": "markdown",
   "metadata": {},
   "source": [
    "<a name='3'></a>\n",
    "## Part 4: Prepare your data (10 pt)\n",
    "\n",
    "Create a dataframe with equal samplesize. Make three categories for tireness 1-2 = no, 3 = maybe, 4-5 = yes"
   ]
  },
  {
   "cell_type": "code",
   "execution_count": 13,
   "metadata": {},
   "outputs": [],
   "source": [
    "#your solution here"
   ]
  },
  {
   "cell_type": "markdown",
   "metadata": {},
   "source": [
    "---"
   ]
  },
  {
   "cell_type": "markdown",
   "metadata": {},
   "source": [
    "<a name='4'></a>\n",
    "## Part 5: Answer the research questions (20 pt)\n",
    "\n",
    "<details>    \n",
    "<summary>\n",
    "    <font size=\"3\" color=\"darkgreen\"><b>Hints</b></font>\n",
    "</summary>\n",
    "    <ul><li>use one-way ANOVA for research question 1</li>\n",
    "    <li>Use two-way ANOVA for research question 2</li>\n",
    "    <li>https://reneshbedre.github.io/blog/anova.html</li>\n",
    "</ul>\n",
    "</details>"
   ]
  },
  {
   "cell_type": "code",
   "execution_count": 14,
   "metadata": {},
   "outputs": [],
   "source": [
    "#Your solution here"
   ]
  },
  {
   "cell_type": "markdown",
   "metadata": {},
   "source": [
    "---"
   ]
  },
  {
   "cell_type": "markdown",
   "metadata": {},
   "source": [
    "<a name='5'></a>\n",
    "## Part 6: Enhanced plotting (20 pt)\n",
    "\n",
    "Create a panel with 1) your dataframe with equal samplesize 2) a picture of a sleeping beauty, 3) the scatter plot of tired / hours of sleep with different colors for Breakfast from part 2 4) the boxplots given the p-value for the anova outcome in the title"
   ]
  },
  {
   "cell_type": "code",
   "execution_count": 15,
   "metadata": {},
   "outputs": [],
   "source": [
    "#your solution here"
   ]
  }
 ],
 "metadata": {
  "kernelspec": {
   "display_name": "Python 3",
   "language": "python",
   "name": "python3"
  },
  "language_info": {
   "codemirror_mode": {
    "name": "ipython",
    "version": 3
   },
   "file_extension": ".py",
   "mimetype": "text/x-python",
   "name": "python",
   "nbconvert_exporter": "python",
   "pygments_lexer": "ipython3",
   "version": "3.10.8"
  },
  "vscode": {
   "interpreter": {
    "hash": "6b91fa5cffef32cb10787a50fea9666676a7951181e01280b4644cd70c964bf4"
   }
  }
 },
 "nbformat": 4,
 "nbformat_minor": 4
}
